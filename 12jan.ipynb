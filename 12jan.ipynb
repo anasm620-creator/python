{
 "cells": [
  {
   "cell_type": "code",
   "execution_count": null,
   "metadata": {},
   "outputs": [],
   "source": [
    "#exception handling(handling the abnormal behaviour)\n",
    "#file handling\n",
    "#excel cant be used for big data...we use open source bcz it is free and secured..code is also available..feature can be added or removed\n",
    "#free source can  be customized..\n",
    "#packege(make and folder and make some files....folder is packege) \n",
    "#module(files are modules )\n",
    "#panda packege\n",
    "#tenzor flow is for deep learning\n",
    "#\n"
   ]
  },
  {
   "cell_type": "markdown",
   "metadata": {},
   "source": [
    "# encapsulation"
   ]
  },
  {
   "cell_type": "code",
   "execution_count": 9,
   "metadata": {},
   "outputs": [],
   "source": [
    "#making the class private\n",
    "class A():\n",
    "    def __init__(self, name, age):\n",
    "        self.__sname=name #making the attribute private)\n",
    "        self.__age=age\n",
    "            \n",
    "    def display(self):\n",
    "        print(\"name:\" ,self.__sname)\n",
    "        print(\"AGE:\" ,self.__age)\n",
    "        \n",
    "    def change(self, a, b):\n",
    "        self.__sname=a\n",
    "        self.__age=b\n",
    "        \n",
    "    def __info(self, a, b):\n",
    "        print(\"hello world\")\n",
    "        \n",
    "        \n",
    "    def abc(self):\n",
    "        print(\"abc\")\n",
    "            \n",
    "obj1=A(\"ALI\", 25)\n",
    "            "
   ]
  },
  {
   "cell_type": "code",
   "execution_count": 6,
   "metadata": {},
   "outputs": [
    {
     "data": {
      "text/plain": [
       "'ALI'"
      ]
     },
     "execution_count": 6,
     "metadata": {},
     "output_type": "execute_result"
    }
   ],
   "source": [
    "obj1._A__sname"
   ]
  },
  {
   "cell_type": "code",
   "execution_count": 10,
   "metadata": {},
   "outputs": [
    {
     "name": "stdout",
     "output_type": "stream",
     "text": [
      "abc\n"
     ]
    }
   ],
   "source": [
    "obj1.abc()"
   ]
  },
  {
   "cell_type": "markdown",
   "metadata": {},
   "source": [
    "# Abstract class"
   ]
  },
  {
   "cell_type": "code",
   "execution_count": 11,
   "metadata": {},
   "outputs": [],
   "source": [
    "class A(): #abstract class\n",
    "    def __init__(self,a ,b):\n",
    "        self.a=a\n",
    "        self.b=b\n",
    "        \n",
    "        \n",
    "class B(A):\n",
    "    pass"
   ]
  },
  {
   "cell_type": "code",
   "execution_count": 12,
   "metadata": {},
   "outputs": [],
   "source": [
    "obj1= A(2,5)"
   ]
  },
  {
   "cell_type": "code",
   "execution_count": 13,
   "metadata": {},
   "outputs": [],
   "source": [
    "obj2=B(5,10)"
   ]
  },
  {
   "cell_type": "code",
   "execution_count": 14,
   "metadata": {},
   "outputs": [
    {
     "name": "stdout",
     "output_type": "stream",
     "text": [
      "2\n"
     ]
    }
   ],
   "source": [
    "print(obj1.a)"
   ]
  },
  {
   "cell_type": "code",
   "execution_count": 15,
   "metadata": {},
   "outputs": [
    {
     "name": "stdout",
     "output_type": "stream",
     "text": [
      "5\n"
     ]
    }
   ],
   "source": [
    "print(obj1.b)"
   ]
  },
  {
   "cell_type": "code",
   "execution_count": 24,
   "metadata": {},
   "outputs": [],
   "source": [
    "#abstract has no direct object,has no instances\n",
    "from abc import ABC,  abstractmethod #functions are of small letters while class consists of capital letters\n",
    "\n",
    "\n",
    "\n",
    "\n",
    "class A(ABC):\n",
    "    @abstractmethod\n",
    "    def __init__ (self,a ,b):\n",
    "        self.a=a\n",
    "        self.b=b\n",
    "    \n",
    "    \n",
    "    def display(self,a,b):\n",
    "        self.a=a\n",
    "        self.b=b\n",
    "        \n",
    "        \n",
    "\n",
    "class B(A):\n",
    "    pass\n",
    "\n"
   ]
  },
  {
   "cell_type": "code",
   "execution_count": 27,
   "metadata": {},
   "outputs": [],
   "source": [
    "class MALE(A):\n",
    "    \n",
    "    def __init__(self):\n",
    "        self.a=\"a\"\n",
    "        self.a=\"b\"\n",
    "        \n",
    "    def display(self,a,b):\n",
    "        return (\"hello\")\n",
    "    \n",
    "p1=MALE()    "
   ]
  },
  {
   "cell_type": "code",
   "execution_count": 29,
   "metadata": {},
   "outputs": [
    {
     "name": "stdout",
     "output_type": "stream",
     "text": [
      "what is your name?dffafs\n"
     ]
    },
    {
     "data": {
      "text/plain": [
       "'dffafs'"
      ]
     },
     "execution_count": 29,
     "metadata": {},
     "output_type": "execute_result"
    }
   ],
   "source": [
    "input ('what is your name?')"
   ]
  },
  {
   "cell_type": "code",
   "execution_count": null,
   "metadata": {},
   "outputs": [],
   "source": []
  }
 ],
 "metadata": {
  "kernelspec": {
   "display_name": "Python 3",
   "language": "python",
   "name": "python3"
  },
  "language_info": {
   "codemirror_mode": {
    "name": "ipython",
    "version": 3
   },
   "file_extension": ".py",
   "mimetype": "text/x-python",
   "name": "python",
   "nbconvert_exporter": "python",
   "pygments_lexer": "ipython3",
   "version": "3.7.3"
  }
 },
 "nbformat": 4,
 "nbformat_minor": 2
}
