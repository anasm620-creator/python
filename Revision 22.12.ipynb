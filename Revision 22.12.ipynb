{
 "cells": [
  {
   "cell_type": "code",
   "execution_count": 9,
   "metadata": {},
   "outputs": [
    {
     "name": "stdout",
     "output_type": "stream",
     "text": [
      "enter your marks : 88\n",
      "your grade is B\n"
     ]
    }
   ],
   "source": [
    "marks=input(\"enter your marks : \")\n",
    "marks=int(marks)\n",
    "if marks>=90:\n",
    "    print('your grade is A')\n",
    "elif marks>80:\n",
    "    print('your grade is B')\n",
    "elif marks>70:\n",
    "    print('your grade is c')\n",
    "elif marks>60:\n",
    "    print('your grade is D')\n",
    "elif marks<=50:\n",
    "    print('your grade is E')\n",
    "    \n",
    "    \n",
    "    "
   ]
  },
  {
   "cell_type": "markdown",
   "metadata": {},
   "source": [
    "# Task 2"
   ]
  },
  {
   "cell_type": "code",
   "execution_count": 5,
   "metadata": {},
   "outputs": [
    {
     "name": "stdout",
     "output_type": "stream",
     "text": [
      "Return Day :thursday\n",
      "return time  :2\n",
      "AM PM:pm\n",
      "scratched or not :true\n",
      "how many nights :15\n",
      "11.925\n",
      "your bill is :11.925$\n"
     ]
    }
   ],
   "source": [
    "day=input('Return Day :')\n",
    "time=input('return time  :')\n",
    "ap=input('AM PM:')\n",
    "scratched=input('scratched or not :')\n",
    "rented_night=input('how many nights :')\n",
    "cost_pernight=1.59\n",
    "time=int(time)\n",
    "rented_night=int(rented_night)\n",
    "if time>8 and ap =='pm':\n",
    "    bill=(cost_pernight*rented_night)\n",
    "    if scratched =='true' :\n",
    "        bill=bill+1\n",
    "        print('your bill is :'+str(bill)+'$')\n",
    "        \n",
    "if day=='sunday':\n",
    "    bill=(cost_pernight*rented_night)\n",
    "    percentage=(30*bill)/100\n",
    "    print(percentage)\n",
    "    bill=bill-percentage\n",
    "    if scratched=='true':\n",
    "        bill=bill+2\n",
    "    print('your bill is :'+str(bill)+'$')\n",
    "    \n",
    "if day=='thursday':\n",
    "    bill=(cost_pernight*rented_night)\n",
    "    percentage=(50*bill)/100\n",
    "    print(percentage)\n",
    "    bill=bill-percentage\n",
    "    print('your bill is :'+str(bill)+'$')\n",
    "\n",
    "    \n",
    "    \n",
    "    \n",
    "    \n"
   ]
  },
  {
   "cell_type": "code",
   "execution_count": 9,
   "metadata": {},
   "outputs": [
    {
     "name": "stdout",
     "output_type": "stream",
     "text": [
      "yuiiiiiiiiiiii....\n",
      "yuiiiiiiiiiiii....\n",
      "yuiiiiiiiiiiii....\n",
      "yuiiiiiiiiiiii....\n",
      "yuiiiiiiiiiiii....\n",
      "yuiiiiiiiiiiii....\n",
      "yuiiiiiiiiiiii....\n",
      "yuiiiiiiiiiiii....\n",
      "yuiiiiiiiiiiii....\n",
      "yuiiiiiiiiiiii....\n",
      "yuiiiiiiiiiiii....\n",
      "total liter=11\n"
     ]
    }
   ],
   "source": [
    "sach=False\n",
    "counter=0\n",
    "while(sach!=True):\n",
    "    if counter==10:\n",
    "        sach=True\n",
    "    counter+=1\n",
    "    print('yuiiiiiiiiiiii....')\n",
    "print('total liter=' +str(counter))    "
   ]
  },
  {
   "cell_type": "markdown",
   "metadata": {},
   "source": [
    "# task=1 LOOPs"
   ]
  },
  {
   "cell_type": "code",
   "execution_count": 20,
   "metadata": {},
   "outputs": [
    {
     "name": "stdout",
     "output_type": "stream",
     "text": [
      "6\n"
     ]
    }
   ],
   "source": [
    "num_list=[0,1,2,3,4,5,6,7,8,9]\n",
    "index=0\n",
    "while (index<10):\n",
    "    if num_list[index]==6:\n",
    "        print(num_list[index])\n",
    "        break\n",
    "    else:\n",
    "        index+=1"
   ]
  },
  {
   "cell_type": "markdown",
   "metadata": {},
   "source": [
    "# Dictonary"
   ]
  },
  {
   "cell_type": "code",
   "execution_count": 22,
   "metadata": {},
   "outputs": [],
   "source": [
    "personData={ \"name\" : \"Anas\" ,\"age\": \"21\", \"Job\" : \"Dev\"}\n",
    "personData[\"Hobbies\"]=[\"travelling\",\"book reading\"]\n"
   ]
  },
  {
   "cell_type": "code",
   "execution_count": 24,
   "metadata": {},
   "outputs": [],
   "source": [
    "work_experience={\n",
    "    \"location\": \"pakistan\",\n",
    "    \"start_year\" : 2018,\n",
    "    \"end_year\" : 2019,\n",
    "    \"title\" : \"web_developer\"\n",
    "    \n",
    "}"
   ]
  },
  {
   "cell_type": "code",
   "execution_count": 25,
   "metadata": {},
   "outputs": [
    {
     "data": {
      "text/plain": [
       "{'name': 'Anas',\n",
       " 'age': '21',\n",
       " 'Job': 'Dev',\n",
       " 'Hobbies': ['travelling', 'book reading'],\n",
       " 'experience': {'location': 'pakistan',\n",
       "  'start_year': 2018,\n",
       "  'end_year': 2019,\n",
       "  'title': 'web_developer'}}"
      ]
     },
     "execution_count": 25,
     "metadata": {},
     "output_type": "execute_result"
    }
   ],
   "source": [
    "personData['experience']=work_experience\n",
    "personData"
   ]
  },
  {
   "cell_type": "code",
   "execution_count": 26,
   "metadata": {},
   "outputs": [
    {
     "name": "stdout",
     "output_type": "stream",
     "text": [
      "{'location': 'pakistan', 'start_year': 2018, 'end_year': 2019, 'title': 'web_developer'}\n"
     ]
    }
   ],
   "source": [
    "print(personData.get(\"experience\"))"
   ]
  },
  {
   "cell_type": "code",
   "execution_count": 27,
   "metadata": {},
   "outputs": [
    {
     "name": "stdout",
     "output_type": "stream",
     "text": [
      "enter something :aada\n"
     ]
    }
   ],
   "source": [
    "userinput=input(\"enter something :\")"
   ]
  },
  {
   "cell_type": "code",
   "execution_count": 28,
   "metadata": {},
   "outputs": [
    {
     "data": {
      "text/plain": [
       "{'location': 'pakistan',\n",
       " 'start_year': 2018,\n",
       " 'end_year': 2019,\n",
       " 'title': 'web_developer'}"
      ]
     },
     "execution_count": 28,
     "metadata": {},
     "output_type": "execute_result"
    }
   ],
   "source": [
    "personData.get(\"experience\")"
   ]
  },
  {
   "cell_type": "code",
   "execution_count": 31,
   "metadata": {},
   "outputs": [
    {
     "data": {
      "text/plain": [
       "'web_developer'"
      ]
     },
     "execution_count": 31,
     "metadata": {},
     "output_type": "execute_result"
    }
   ],
   "source": [
    "personData[\"experience\"][\"title\"]"
   ]
  },
  {
   "cell_type": "code",
   "execution_count": null,
   "metadata": {},
   "outputs": [],
   "source": [
    "[\n",
    "    {\n",
    "        \"name\" : \"mobi\"\n",
    "        \"marks\" : {\"math\" :30 , \"english\" : 35, \"urdu\" : 41}\n",
    "        \"hobbies\" : {\"cricket\", \"rea\"}\n",
    "    }\n",
    "]"
   ]
  }
 ],
 "metadata": {
  "kernelspec": {
   "display_name": "Python 3",
   "language": "python",
   "name": "python3"
  },
  "language_info": {
   "codemirror_mode": {
    "name": "ipython",
    "version": 3
   },
   "file_extension": ".py",
   "mimetype": "text/x-python",
   "name": "python",
   "nbconvert_exporter": "python",
   "pygments_lexer": "ipython3",
   "version": "3.7.3"
  }
 },
 "nbformat": 4,
 "nbformat_minor": 2
}
