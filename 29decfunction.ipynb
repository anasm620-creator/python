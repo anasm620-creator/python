{
 "cells": [
  {
   "cell_type": "markdown",
   "metadata": {},
   "source": [
    "# functions\n",
    "\n"
   ]
  },
  {
   "cell_type": "code",
   "execution_count": null,
   "metadata": {},
   "outputs": [],
   "source": [
    " #funcion is a set of statments...user defined function..pre defined function..\n",
    "    #required arguments...default argument...\n",
    "    #recursive function(repeats itself again and again)\n",
    "    #generator function(range function).irtative function\n",
    "#lamba( one line function ..which can be use only once ...na phly use ho ga aur na baad me....no name function\n",
    "#positional argument(ingredients are fixed..position plays an imp role\n",
    "#keyword argument(positiion doesnt matter...any thing can come first...not in order.)\n",
    "#arguments passing with list and dictonary...pass it using *..\n",
    "#keyword argument is passed through dictonary using **..."
   ]
  },
  {
   "cell_type": "code",
   "execution_count": null,
   "metadata": {},
   "outputs": [],
   "source": [
    "#predefined functions\n",
    "\n",
    "print(\"abc\")\n",
    "print(len(\"asas\"))\n",
    "print(type(22))\n",
    "print(id(\"aa\"))"
   ]
  },
  {
   "cell_type": "code",
   "execution_count": 3,
   "metadata": {},
   "outputs": [
    {
     "name": "stdout",
     "output_type": "stream",
     "text": [
      "pakistan zindabad\n",
      "we are pakistani\n",
      "we love our country\n"
     ]
    }
   ],
   "source": [
    "#userdefined function\n",
    "\n",
    "print(\"pakistan zindabad\")\n",
    "print(\"we are pakistani\")\n",
    "print(\"we love our country\")"
   ]
  },
  {
   "cell_type": "code",
   "execution_count": 8,
   "metadata": {},
   "outputs": [
    {
     "name": "stdout",
     "output_type": "stream",
     "text": [
      "pakistan zindabad\n",
      "we are pakistani\n",
      "we love our country\n",
      "pakistan zindabad\n",
      "we are pakistani\n",
      "we love our country\n"
     ]
    }
   ],
   "source": [
    "def abc():#function declare\n",
    "\n",
    "    print(\"pakistan zindabad\")#function body statement#1\n",
    "    print(\"we are pakistani\")#statment2\n",
    "    print(\"we love our country\")#statement3\n",
    "#default function    \n",
    "abc() #function call \n",
    "abc() #function call "
   ]
  },
  {
   "cell_type": "code",
   "execution_count": 9,
   "metadata": {},
   "outputs": [
    {
     "name": "stdout",
     "output_type": "stream",
     "text": [
      "pakistan zindabad\n",
      "we are pakistani\n",
      "we love our country\n",
      "aaaa\n",
      "dfddc\n",
      "pakistan zindabad\n",
      "we are pakistani\n",
      "we love our country\n"
     ]
    }
   ],
   "source": [
    "#linear programming is faster than functional programming wrt time\n",
    "abc()\n",
    "print('aaaa')\n",
    "print('dfddc')\n",
    "abc()"
   ]
  },
  {
   "cell_type": "markdown",
   "metadata": {},
   "source": [
    "# required arguments"
   ]
  },
  {
   "cell_type": "code",
   "execution_count": 19,
   "metadata": {},
   "outputs": [
    {
     "name": "stdout",
     "output_type": "stream",
     "text": [
      "\n",
      "    PIAIC ISLAMABAD    id:1\n",
      "    name:Ali\n",
      "    father's name:hamza\n",
      "    cousre:AI\n",
      "    timing:9 to 12\n",
      "    \n",
      "\n",
      "    PIAIC ISLAMABAD    id:12\n",
      "    name:Anas\n",
      "    father's name:Amjad\n",
      "    cousre:AI\n",
      "    timing:9 to 12\n",
      "    \n"
     ]
    }
   ],
   "source": [
    "def id_card(sid, sname, fname, course, timing):\n",
    "    text= \"\"\"\n",
    "    PIAIC ISLAMABAD\\\n",
    "    id:{}\n",
    "    name:{}\n",
    "    father's name:{}\n",
    "    cousre:{}\n",
    "    timing:{}\n",
    "    \"\"\".format(sid,sname,fname,course,timing)\n",
    "    print(text)\n",
    "    \n",
    "id_card(1,\"Ali\",'hamza','AI','9 to 12')\n",
    "id_card(12,\"Anas\",'Amjad','AI','9 to 12')\n"
   ]
  },
  {
   "cell_type": "code",
   "execution_count": 22,
   "metadata": {},
   "outputs": [
    {
     "name": "stdout",
     "output_type": "stream",
     "text": [
      "\n",
      "    PIAIC ISLAMABAD    id:1\n",
      "    name:ANAS\n",
      "    father's name:AMjad\n",
      "    cousre:AI\n",
      "    timing:9 to 12\n",
      "    \n",
      "\n",
      "    PIAIC ISLAMABAD    id:2\n",
      "    name:hamza\n",
      "    father's name:ali\n",
      "    cousre:cloud\n",
      "    timing:9 to 12\n",
      "    \n",
      "\n",
      "    PIAIC ISLAMABAD    id:3\n",
      "    name:noor\n",
      "    father's name:ahmed\n",
      "    cousre:nothing\n",
      "    timing:12 to 3\n",
      "    \n"
     ]
    }
   ],
   "source": [
    "data= [[1,\"ANAS\",\"AMjad\",\"AI\",\"9 to 12\"],\n",
    "     [2,\"hamza\",\"ali\",\"cloud\",\"9 to 12\"],\n",
    "    [3,\"noor\",\"ahmed\",\"nothing\",\"12 to 3\"]]\n",
    "for v in data:\n",
    "    id_card(*v)#pointer\n",
    "    #id_card(v[0],v[1],v[2],v[3],v[4])\n"
   ]
  },
  {
   "cell_type": "markdown",
   "metadata": {},
   "source": [
    "# optional Arguments"
   ]
  },
  {
   "cell_type": "code",
   "execution_count": 25,
   "metadata": {},
   "outputs": [
    {
     "name": "stdout",
     "output_type": "stream",
     "text": [
      "5 0 0\n",
      "5\n"
     ]
    }
   ],
   "source": [
    "def abc(x, y=0, z=0):#1 required,2 are optional\n",
    "    print(x,y,z)\n",
    "    print(x+y+z)\n",
    "    \n",
    "abc(5)    "
   ]
  },
  {
   "cell_type": "code",
   "execution_count": 27,
   "metadata": {},
   "outputs": [
    {
     "name": "stdout",
     "output_type": "stream",
     "text": [
      "5 7 8\n",
      "20\n"
     ]
    }
   ],
   "source": [
    "abc(5,7,8)"
   ]
  },
  {
   "cell_type": "code",
   "execution_count": 29,
   "metadata": {},
   "outputs": [
    {
     "name": "stdout",
     "output_type": "stream",
     "text": [
      "3 4 5\n",
      "12\n"
     ]
    }
   ],
   "source": [
    "abc(3,4,5)"
   ]
  },
  {
   "cell_type": "markdown",
   "metadata": {},
   "source": [
    "# non return functions"
   ]
  },
  {
   "cell_type": "code",
   "execution_count": 30,
   "metadata": {},
   "outputs": [
    {
     "name": "stdout",
     "output_type": "stream",
     "text": [
      "pakistan\n",
      "None\n"
     ]
    }
   ],
   "source": [
    "abc=print(\"pakistan\")\n",
    "print(abc)"
   ]
  },
  {
   "cell_type": "code",
   "execution_count": 34,
   "metadata": {},
   "outputs": [
    {
     "name": "stdout",
     "output_type": "stream",
     "text": [
      "\n",
      "    PIAIC ISLAMABAD    id:1\n",
      "    name:A\n",
      "    father's name:b\n",
      "    cousre:c\n",
      "    timing:d\n",
      "    \n",
      "None\n"
     ]
    }
   ],
   "source": [
    "card=id_card(1,'A',\"b\",\"c\",\"d\")\n",
    "print(card)"
   ]
  },
  {
   "cell_type": "markdown",
   "metadata": {},
   "source": [
    "# return function\n",
    "\n",
    "\n",
    "\n"
   ]
  },
  {
   "cell_type": "code",
   "execution_count": 43,
   "metadata": {},
   "outputs": [
    {
     "name": "stdout",
     "output_type": "stream",
     "text": [
      "\n",
      "    PIAIC ISLAMABAD    id:1\n",
      "    name:A\n",
      "    father's name:B\n",
      "    cousre:C\n",
      "    timing:D\n",
      "     Anas ALi\n",
      "A n a s\n"
     ]
    }
   ],
   "source": [
    "def id_card(sid, sname, fname, course, timing):\n",
    "    text= \"\"\"\n",
    "    PIAIC ISLAMABAD\\\n",
    "    id:{}\n",
    "    name:{}\n",
    "    father's name:{}\n",
    "    cousre:{}\n",
    "    timing:{}\n",
    "    \"\"\".format(sid,sname,fname,course,timing)\n",
    "    return text,\"Anas\",\"ALi\"#return in tuple form\n",
    "\n",
    "print(*id_card(1,\"A\",'B','C','D')) #return multiple values   \n",
    "print(*id_card(1,\"A\",'B','C','D')[1])#return multiple values (tuple)"
   ]
  },
  {
   "cell_type": "code",
   "execution_count": 47,
   "metadata": {},
   "outputs": [
    {
     "name": "stdout",
     "output_type": "stream",
     "text": [
      "0\n",
      "0\n",
      "6\n",
      "44\n"
     ]
    }
   ],
   "source": [
    "def abc(x=0, y=0, z=0):\n",
    "    print(x*(y+z))\n",
    "    \n",
    "abc() \n",
    "abc(1)\n",
    "abc(2,3)\n",
    "abc(4,5,6)\n",
    "    "
   ]
  },
  {
   "cell_type": "markdown",
   "metadata": {},
   "source": [
    "# keyword argument"
   ]
  },
  {
   "cell_type": "code",
   "execution_count": 50,
   "metadata": {},
   "outputs": [
    {
     "name": "stdout",
     "output_type": "stream",
     "text": [
      "\n",
      "    PIAIC ISLAMABAD    id:007\n",
      "    name:ANAS\n",
      "    father's name:Amjad\n",
      "    cousre:AI\n",
      "    timing:9 to 12\n",
      "    \n"
     ]
    }
   ],
   "source": [
    "def id_card(sid, sname, fname, course, timing):\n",
    "    text= \"\"\"\n",
    "    PIAIC ISLAMABAD\\\n",
    "    id:{}\n",
    "    name:{}\n",
    "    father's name:{}\n",
    "    cousre:{}\n",
    "    timing:{}\n",
    "    \"\"\".format(sid,sname,fname,course,timing)\n",
    "    return text\n",
    "    \n",
    "print(id_card(sname=\"ANAS\",fname=\"Amjad\",sid='007',course='AI',timing='9 to 12'))"
   ]
  },
  {
   "cell_type": "code",
   "execution_count": null,
   "metadata": {},
   "outputs": [],
   "source": [
    "\n",
    "print(id_card(sname=\"ANAS\",fname=\"Amjad\",sid='007',course='AI',timing='9 to 12'))\n",
    "#2 postional\n",
    "#3 keyword arguments"
   ]
  },
  {
   "cell_type": "markdown",
   "metadata": {},
   "source": [
    "# arugments by list"
   ]
  },
  {
   "cell_type": "code",
   "execution_count": 56,
   "metadata": {},
   "outputs": [
    {
     "name": "stdout",
     "output_type": "stream",
     "text": [
      "1 ANAs amjad AI 9 to 9\n",
      "1 ANAs amjad\n"
     ]
    }
   ],
   "source": [
    "def id_card(sid, sname, fname, course, timing):\n",
    "    text= \"\"\"\n",
    "    PIAIC ISLAMABAD\\\n",
    "    id:{}\n",
    "    name:{}\n",
    "    father's name:{}\n",
    "    cousre:{}\n",
    "    timing:{}\n",
    "    \"\"\".format(sid,sname,fname,course,timing)\n",
    "    return text\n",
    "\n",
    "\n",
    "l1=[1,\"ANAs\",\"amjad\",\"AI\",\"9 to 9\"]\n",
    "    \n",
    "print(*(l1))\n",
    "print(l1[0],l1[1],l1[2])"
   ]
  },
  {
   "cell_type": "code",
   "execution_count": 64,
   "metadata": {},
   "outputs": [
    {
     "name": "stdout",
     "output_type": "stream",
     "text": [
      "\n",
      "    PIAIC ISLAMABAD    id:course\n",
      "    name:sname\n",
      "    father's name:fname\n",
      "    cousre:sid\n",
      "    timing:timing\n",
      "    \n"
     ]
    }
   ],
   "source": [
    "def id_card(sid, sname, fname, course, timing):\n",
    "    text= \"\"\"\n",
    "    PIAIC ISLAMABAD\\\n",
    "    id:{}\n",
    "    name:{}\n",
    "    father's name:{}\n",
    "    cousre:{}\n",
    "    timing:{}\n",
    "    \"\"\".format(sid,sname,fname,course,timing)\n",
    "    return text\n",
    "    \n",
    "d1={\n",
    "    'course':\"AI\",\n",
    "    'sname':\"ANAs\",\n",
    "    'fname':\"Amjad\",\n",
    "    'sid':200,\n",
    "    'timing':\"9 to 9\"\n",
    "}\n",
    "\n",
    "print(id_card(**d1))# single * for list and double ** for dictoanry"
   ]
  },
  {
   "cell_type": "markdown",
   "metadata": {},
   "source": [
    "# recursive functions"
   ]
  },
  {
   "cell_type": "code",
   "execution_count": 67,
   "metadata": {},
   "outputs": [
    {
     "data": {
      "text/plain": [
       "120"
      ]
     },
     "execution_count": 67,
     "metadata": {},
     "output_type": "execute_result"
    }
   ],
   "source": [
    "#fatorial function\n",
    "def abc(n):\n",
    "    if n==1:\n",
    "        return 1\n",
    "    return n* abc(n-1)\n",
    "    \n",
    "    \n",
    "abc(5)"
   ]
  },
  {
   "cell_type": "markdown",
   "metadata": {},
   "source": [
    "# generator function"
   ]
  },
  {
   "cell_type": "code",
   "execution_count": 76,
   "metadata": {},
   "outputs": [
    {
     "name": "stdout",
     "output_type": "stream",
     "text": [
      "<generator object abc at 0x000001A9FCAB3570>\n",
      "0\n",
      "1\n",
      "2\n",
      "3\n",
      "4\n",
      "5\n",
      "[6, 7, 8, 9, 10]\n"
     ]
    }
   ],
   "source": [
    "def abc():\n",
    "    for i in range(11):\n",
    "        yield i #signifance of generator function\n",
    "        \n",
    "a=abc()\n",
    "print(a)\n",
    "print(next(a))\n",
    "print(next(a))\n",
    "print(next(a))\n",
    "print(next(a))\n",
    "print(next(a))\n",
    "print(next(a))\n",
    "\n",
    "print(list(a))"
   ]
  },
  {
   "cell_type": "markdown",
   "metadata": {},
   "source": [
    "# lambda function"
   ]
  },
  {
   "cell_type": "code",
   "execution_count": 77,
   "metadata": {},
   "outputs": [
    {
     "data": {
      "text/plain": [
       "13"
      ]
     },
     "execution_count": 77,
     "metadata": {},
     "output_type": "execute_result"
    }
   ],
   "source": [
    "def xyz(a,b):\n",
    "    return a+b\n",
    "\n",
    "xyz(5,8)"
   ]
  },
  {
   "cell_type": "code",
   "execution_count": 79,
   "metadata": {},
   "outputs": [
    {
     "data": {
      "text/plain": [
       "12"
      ]
     },
     "execution_count": 79,
     "metadata": {},
     "output_type": "execute_result"
    }
   ],
   "source": [
    "xyz =lambda a,b: a + b\n",
    "\n",
    "xyz(5,7)"
   ]
  },
  {
   "cell_type": "code",
   "execution_count": 93,
   "metadata": {},
   "outputs": [
    {
     "data": {
      "text/plain": [
       "8"
      ]
     },
     "execution_count": 93,
     "metadata": {},
     "output_type": "execute_result"
    }
   ],
   "source": [
    "xy =lambda a,b:a if a>b else b\n",
    "\n",
    "xy(5,8)"
   ]
  },
  {
   "cell_type": "code",
   "execution_count": null,
   "metadata": {},
   "outputs": [],
   "source": []
  }
 ],
 "metadata": {
  "kernelspec": {
   "display_name": "Python 3",
   "language": "python",
   "name": "python3"
  },
  "language_info": {
   "codemirror_mode": {
    "name": "ipython",
    "version": 3
   },
   "file_extension": ".py",
   "mimetype": "text/x-python",
   "name": "python",
   "nbconvert_exporter": "python",
   "pygments_lexer": "ipython3",
   "version": "3.7.3"
  }
 },
 "nbformat": 4,
 "nbformat_minor": 2
}
