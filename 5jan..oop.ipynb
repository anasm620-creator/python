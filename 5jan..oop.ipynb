{
 "cells": [
  {
   "cell_type": "markdown",
   "metadata": {},
   "source": [
    "# topic"
   ]
  },
  {
   "cell_type": "code",
   "execution_count": null,
   "metadata": {},
   "outputs": [],
   "source": [
    "#class,instances,method,attributes,variables"
   ]
  },
  {
   "cell_type": "code",
   "execution_count": null,
   "metadata": {},
   "outputs": [],
   "source": [
    "#pillars of oop\n",
    " #inheritance\n",
    " #polymorphism(#overriding...,,overloading...when one operators perofrms more than one  functionalities)\n",
    " #abstraction(#class cant be made...incomplete class...)\n",
    " #encapsulation(#make class and make some methods private and then call the methods to change them by using the function getter and setter)\n",
    "\n",
    "#interface  "
   ]
  },
  {
   "cell_type": "code",
   "execution_count": null,
   "metadata": {},
   "outputs": [],
   "source": [
    "s1name=\"Ali\"\n",
    "s1fname=\"hamza\"\n",
    "s1id=1\n",
    "def s1login():pass\n",
    "def s1logout():pass\n",
    "def s1attempt_quiz():pass\n",
    "\n",
    "\n",
    "\n",
    "\n",
    "s1name=\"aans\"\n",
    "s1fname=\"amjad\"\n",
    "s1id=1\n",
    "def s1login():pass\n",
    "def s1logout():pass\n",
    "def s1attempt_quiz():pass\n"
   ]
  },
  {
   "cell_type": "markdown",
   "metadata": {},
   "source": [
    "# OOP"
   ]
  },
  {
   "cell_type": "code",
   "execution_count": 4,
   "metadata": {},
   "outputs": [],
   "source": [
    "class student():\n",
    "    pass #just for moving on..not give error\n",
    "s1=student()"
   ]
  },
  {
   "cell_type": "code",
   "execution_count": 5,
   "metadata": {},
   "outputs": [],
   "source": [
    "class student():#constructor,destructor\n",
    "    def __init__(self, sid):#used for constructor,one argument is compulsory\n",
    "        self.sid=sid\n",
    "        self.name= \"\"\n",
    "        self.fname= \"\"\n",
    "        self.course=\"\"\n",
    "        self.fee=0\n",
    "    def login(self):\n",
    "        pass\n",
    "    \n",
    "    def logout(self):\n",
    "        pass\n",
    "    \n",
    "    def attempt_quiz(self):\n",
    "        pass\n",
    "    \n",
    "    def attendance(self):\n",
    "        pass\n",
    "    \n",
    "                \n",
    "            \n",
    "s1=student(1)#instances(s1,s2,s3)\n",
    "s2=student(2)\n",
    "s3=student(3)"
   ]
  },
  {
   "cell_type": "code",
   "execution_count": null,
   "metadata": {},
   "outputs": [],
   "source": [
    "print(s1.name,s2.name,s3.name)"
   ]
  },
  {
   "cell_type": "code",
   "execution_count": 7,
   "metadata": {},
   "outputs": [
    {
     "name": "stdout",
     "output_type": "stream",
     "text": [
      "1 3\n"
     ]
    }
   ],
   "source": [
    "print (s1.sid,s3.sid)"
   ]
  },
  {
   "cell_type": "code",
   "execution_count": 13,
   "metadata": {},
   "outputs": [
    {
     "name": "stdout",
     "output_type": "stream",
     "text": [
      "Ali\n",
      "hamza\n",
      "mustafa\n"
     ]
    }
   ],
   "source": [
    "s1.name=\"Ali\"\n",
    "s2.name=\"hamza\"\n",
    "s3.name=\"mustafa\"\n",
    "print(s1.name,s2.name,s3.name ,sep=\"\\n\")\n",
    "\n"
   ]
  },
  {
   "cell_type": "code",
   "execution_count": 27,
   "metadata": {},
   "outputs": [
    {
     "data": {
      "text/plain": [
       "3"
      ]
     },
     "execution_count": 27,
     "metadata": {},
     "output_type": "execute_result"
    }
   ],
   "source": [
    "class student():#class name   #constructor,destructor\n",
    "    \n",
    "    counter=0 #class variable\n",
    "    \n",
    "    def __init__(this, sid):#used for constructor,one argument is compulsory and remains same in the whole program\n",
    "        this.sid=sid  #attributes/properties/field\n",
    "        this.name= \"\"\n",
    "        this.fname= \"\"\n",
    "        this.course=\"\"\n",
    "        this.fee=0\n",
    "        this.user= \"\"\n",
    "        student.counter +=1\n",
    "    def login(this, user, password):#method/action/function\n",
    "        this.user=user\n",
    "        print(\"welcome\",this.user)\n",
    "    \n",
    "    def logout(this):\n",
    "        pass\n",
    "    \n",
    "    \n",
    "    def attempt_quiz(this):\n",
    "        pass\n",
    "    \n",
    "    def attendance(this):\n",
    "        pass\n",
    "    \n",
    "                \n",
    "            \n",
    "s1=student(1)#instances(s1,s2,s3) #counter 1\n",
    "s2=student(2)#counter2\n",
    "s3=student(3)#counter 3\n",
    "\n",
    "s1.counter"
   ]
  },
  {
   "cell_type": "code",
   "execution_count": 28,
   "metadata": {},
   "outputs": [
    {
     "data": {
      "text/plain": [
       "3"
      ]
     },
     "execution_count": 28,
     "metadata": {},
     "output_type": "execute_result"
    }
   ],
   "source": [
    "student.counter"
   ]
  },
  {
   "cell_type": "code",
   "execution_count": 29,
   "metadata": {},
   "outputs": [
    {
     "name": "stdout",
     "output_type": "stream",
     "text": [
      "welcome anas\n"
     ]
    }
   ],
   "source": [
    "s1.login(\"anas\",\"123\")"
   ]
  },
  {
   "cell_type": "markdown",
   "metadata": {},
   "source": [
    "# inheritance"
   ]
  },
  {
   "cell_type": "code",
   "execution_count": 32,
   "metadata": {},
   "outputs": [],
   "source": [
    "class Parent():\n",
    "    def __int__(self):\n",
    "        self.name=\"\"\n",
    "        self.fname=\"\"\n",
    "    def speak(self, words=\"\"):\n",
    "        print(words,\". . .\")\n",
    "        \n",
    "    def eat(self, food=\"roti\"):\n",
    "        print(food)\n",
    "        \n",
    "        \n",
    "        \n",
    "class Child(Parent):\n",
    "    pass\n"
   ]
  },
  {
   "cell_type": "code",
   "execution_count": 34,
   "metadata": {},
   "outputs": [
    {
     "name": "stdout",
     "output_type": "stream",
     "text": [
      "ABC\n"
     ]
    }
   ],
   "source": [
    "p_obj1 =Parent()\n",
    "p_obj1.name =\"ABC\"\n",
    "print(p_obj1.name)"
   ]
  },
  {
   "cell_type": "code",
   "execution_count": 36,
   "metadata": {},
   "outputs": [
    {
     "name": "stdout",
     "output_type": "stream",
     "text": [
      "pakistan zindabad . . .\n"
     ]
    }
   ],
   "source": [
    "c_obj=Child()\n",
    "c_obj.speak(\"pakistan zindabad\")"
   ]
  },
  {
   "cell_type": "code",
   "execution_count": 37,
   "metadata": {},
   "outputs": [],
   "source": [
    "class Mother():\n",
    "    def __int__(self):\n",
    "        self.name=\"\"\n",
    "        self.fname=\"\"\n",
    "    def speak(self, words=\"\"):\n",
    "        print(words,\". . .\")\n",
    "        \n",
    "    def eat(self, food=\"roti_mother\"):\n",
    "        print(food)\n",
    "    \n",
    "class Father():\n",
    "    def __int__(self):\n",
    "        self.name=\"\"\n",
    "        self.fname=\"\"\n",
    "    def speak(self, words=\"\"):\n",
    "        print(words,\". . .\")\n",
    "        \n",
    "    def eat(self, food=\"roti_father\"):\n",
    "        print(food)\n",
    "\n",
    "class Child(Mother,Father):\n",
    "    pass"
   ]
  },
  {
   "cell_type": "code",
   "execution_count": 40,
   "metadata": {},
   "outputs": [
    {
     "name": "stdout",
     "output_type": "stream",
     "text": [
      "roti_mother\n"
     ]
    }
   ],
   "source": [
    "c_ojb=Child()\n",
    "c_ojb.eat()\n"
   ]
  },
  {
   "cell_type": "markdown",
   "metadata": {},
   "source": [
    "# polymorphism"
   ]
  },
  {
   "cell_type": "markdown",
   "metadata": {},
   "source": [
    "### overloading"
   ]
  },
  {
   "cell_type": "code",
   "execution_count": null,
   "metadata": {},
   "outputs": [],
   "source": [
    "class A():\n",
    "    def abc(self,a):\n",
    "        print(a)\n",
    "    \n",
    "    def abc(self, a=\"\",b=\"\"):\n",
    "        if a==\"\":\n",
    "        print(a+b)\n",
    "        \n",
    "obj1= A()\n",
    "obj1.abc()"
   ]
  },
  {
   "cell_type": "code",
   "execution_count": 46,
   "metadata": {},
   "outputs": [
    {
     "ename": "TypeError",
     "evalue": "'int' object is not iterable",
     "output_type": "error",
     "traceback": [
      "\u001b[1;31m---------------------------------------------------------------------------\u001b[0m",
      "\u001b[1;31mTypeError\u001b[0m                                 Traceback (most recent call last)",
      "\u001b[1;32m<ipython-input-46-192383701a48>\u001b[0m in \u001b[0;36m<module>\u001b[1;34m\u001b[0m\n\u001b[0;32m      9\u001b[0m \u001b[1;33m\u001b[0m\u001b[0m\n\u001b[0;32m     10\u001b[0m \u001b[0mobj1\u001b[0m\u001b[1;33m=\u001b[0m\u001b[0mA\u001b[0m\u001b[1;33m(\u001b[0m\u001b[1;33m)\u001b[0m\u001b[1;33m\u001b[0m\u001b[1;33m\u001b[0m\u001b[0m\n\u001b[1;32m---> 11\u001b[1;33m \u001b[0mobj1\u001b[0m\u001b[1;33m.\u001b[0m\u001b[0mabc\u001b[0m\u001b[1;33m(\u001b[0m\u001b[1;36m1\u001b[0m\u001b[1;33m)\u001b[0m\u001b[1;33m\u001b[0m\u001b[1;33m\u001b[0m\u001b[0m\n\u001b[0m\u001b[0;32m     12\u001b[0m \u001b[0mobj1\u001b[0m\u001b[1;33m.\u001b[0m\u001b[0mabc\u001b[0m\u001b[1;33m(\u001b[0m\u001b[1;36m1\u001b[0m\u001b[1;33m,\u001b[0m\u001b[1;34m'str'\u001b[0m\u001b[1;33m)\u001b[0m\u001b[1;33m\u001b[0m\u001b[1;33m\u001b[0m\u001b[0m\n",
      "\u001b[1;32m<ipython-input-46-192383701a48>\u001b[0m in \u001b[0;36mabc\u001b[1;34m(self, n)\u001b[0m\n\u001b[0;32m      5\u001b[0m         \u001b[0mprint\u001b[0m\u001b[1;33m(\u001b[0m\u001b[0mn\u001b[0m\u001b[1;33m,\u001b[0m\u001b[0my\u001b[0m\u001b[1;33m)\u001b[0m\u001b[1;33m\u001b[0m\u001b[1;33m\u001b[0m\u001b[0m\n\u001b[0;32m      6\u001b[0m     \u001b[1;32mdef\u001b[0m \u001b[0mabc\u001b[0m\u001b[1;33m(\u001b[0m\u001b[0mself\u001b[0m\u001b[1;33m,\u001b[0m\u001b[0mn\u001b[0m\u001b[1;33m)\u001b[0m\u001b[1;33m:\u001b[0m\u001b[1;33m\u001b[0m\u001b[1;33m\u001b[0m\u001b[0m\n\u001b[1;32m----> 7\u001b[1;33m         \u001b[0mprint\u001b[0m\u001b[1;33m(\u001b[0m\u001b[0msum\u001b[0m\u001b[1;33m(\u001b[0m\u001b[0mn\u001b[0m\u001b[1;33m)\u001b[0m\u001b[1;33m)\u001b[0m\u001b[1;33m\u001b[0m\u001b[1;33m\u001b[0m\u001b[0m\n\u001b[0m\u001b[0;32m      8\u001b[0m \u001b[1;33m\u001b[0m\u001b[0m\n\u001b[0;32m      9\u001b[0m \u001b[1;33m\u001b[0m\u001b[0m\n",
      "\u001b[1;31mTypeError\u001b[0m: 'int' object is not iterable"
     ]
    }
   ],
   "source": [
    "class A():\n",
    "    \n",
    "    \n",
    "    def abc(self,n,y):\n",
    "        print(n,y)\n",
    "        \n",
    "    def abc(self,n):\n",
    "        print(sum(n))\n",
    "        \n",
    "        \n",
    "obj1=A()\n",
    "obj1.abc(1)\n",
    "obj1.abc(1,'str')"
   ]
  },
  {
   "cell_type": "code",
   "execution_count": null,
   "metadata": {},
   "outputs": [],
   "source": []
  }
 ],
 "metadata": {
  "kernelspec": {
   "display_name": "Python 3",
   "language": "python",
   "name": "python3"
  },
  "language_info": {
   "codemirror_mode": {
    "name": "ipython",
    "version": 3
   },
   "file_extension": ".py",
   "mimetype": "text/x-python",
   "name": "python",
   "nbconvert_exporter": "python",
   "pygments_lexer": "ipython3",
   "version": "3.7.3"
  }
 },
 "nbformat": 4,
 "nbformat_minor": 2
}
